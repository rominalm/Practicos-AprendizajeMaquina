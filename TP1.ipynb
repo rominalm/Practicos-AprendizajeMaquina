{
  "nbformat": 4,
  "nbformat_minor": 0,
  "metadata": {
    "colab": {
      "name": "TP1.ipynb",
      "provenance": [],
      "authorship_tag": "ABX9TyNb5+4weasuvnVRRnuFYdak",
      "include_colab_link": true
    },
    "kernelspec": {
      "name": "python3",
      "display_name": "Python 3"
    },
    "language_info": {
      "name": "python"
    }
  },
  "cells": [
    {
      "cell_type": "markdown",
      "metadata": {
        "id": "view-in-github",
        "colab_type": "text"
      },
      "source": [
        "<a href=\"https://colab.research.google.com/github/rominalm/Practicos-AprendizajeMaquina/blob/main/TP1.ipynb\" target=\"_parent\"><img src=\"https://colab.research.google.com/assets/colab-badge.svg\" alt=\"Open In Colab\"/></a>"
      ]
    },
    {
      "cell_type": "code",
      "metadata": {
        "id": "-puh_w-0oG7i"
      },
      "source": [
        "###### librerias ######\n",
        "import numpy as np\n",
        "import matplotlib.pyplot as plt"
      ],
      "execution_count": 3,
      "outputs": []
    },
    {
      "cell_type": "code",
      "metadata": {
        "id": "pPUn4dcZCCRF"
      },
      "source": [
        "###### cuarteto de Anscombe ######\n",
        "x1 = np.array([10,8,13,9,11,14,6,4,12,7,5])\n",
        "y1 = np.array([8.04,6.95,7.58,8.81,8.33,9.96,7.24,4.26,10.84,4.82,5.68])\n",
        "\n",
        "x2 = np.array([10,8,13,9,11,14,6,4,12,7,5])\n",
        "y2 = np.array([9.14,8.14,8.74,8.77,9.26,8.10,6.13,3.10,9.13,7.26,4.74])\n",
        "\n",
        "x3 = np.array([10,8,13,9,11,14,6,4,12,7,5])\n",
        "y3 = np.array([7.46,6.77,12.74,7.11,7.81,8.84,6.08,5.39,8.15,6.42,5.73])\n",
        "\n",
        "x4 = np.array([8,8,8,8,8,8,8,19,8,8,8])\n",
        "y4 = np.array([6.58,5.76,7.79,8.84,8.47,7.04,5.25,12.50,5.56,7.91,6.89])"
      ],
      "execution_count": 4,
      "outputs": []
    },
    {
      "cell_type": "code",
      "metadata": {
        "id": "9fmslDSwOkLZ"
      },
      "source": [
        "###### puntos ######\n",
        "p1 = np.array([16,8])\n",
        "\n",
        "p2 = np.array([8,6])\n",
        "\n",
        "p3 = np.array([16,10])\n",
        "\n",
        "p4 = np.array([16,6])"
      ],
      "execution_count": 17,
      "outputs": []
    },
    {
      "cell_type": "code",
      "metadata": {
        "colab": {
          "base_uri": "https://localhost:8080/",
          "height": 296
        },
        "id": "gDVWWZgEFm9s",
        "outputId": "e7c9a801-911a-45a4-b023-acce92128fb9"
      },
      "source": [
        "###### visualizacion de los datos ####\n",
        "plt.subplot(221)\n",
        "plt.scatter(x1,y1)\n",
        "plt.plot(p1[0],p1[1],'sg')\n",
        "plt.plot(p2[0],p2[1],'Pr')\n",
        "plt.plot(p3[0],p3[1],'^k')\n",
        "plt.plot(p4[0],p4[1],'*m')\n",
        "plt.title('dataset 1')\n",
        "\n",
        "plt.subplot(222)\n",
        "plt.scatter(x2,y2)\n",
        "plt.plot(p1[0],p1[1],'sg')\n",
        "plt.plot(p2[0],p2[1],'Pr')\n",
        "plt.plot(p3[0],p3[1],'^k')\n",
        "plt.plot(p4[0],p4[1],'*m')\n",
        "plt.title('dataset 2')\n",
        "\n",
        "plt.subplot(223)\n",
        "plt.scatter(x3,y3)\n",
        "plt.plot(p1[0],p1[1],'sg')\n",
        "plt.plot(p2[0],p2[1],'Pr')\n",
        "plt.plot(p3[0],p3[1],'^k')\n",
        "plt.plot(p4[0],p4[1],'*m')\n",
        "plt.title('dataset 3')\n",
        "\n",
        "plt.subplot(224)\n",
        "plt.scatter(x4,y4)\n",
        "plt.plot(p1[0],p1[1],'sg')\n",
        "plt.plot(p2[0],p2[1],'Pr')\n",
        "plt.plot(p3[0],p3[1],'^k')\n",
        "plt.plot(p4[0],p4[1],'*m')\n",
        "plt.title('dataset 4')\n",
        "\n",
        "plt.tight_layout()"
      ],
      "execution_count": 26,
      "outputs": [
        {
          "output_type": "display_data",
          "data": {
            "image/png": "[encoded data removed]",
            "text/plain": [
              "<Figure size 432x288 with 4 Axes>"
            ]
          },
          "metadata": {
            "needs_background": "light"
          }
        }
      ]
    },
    {
      "cell_type": "markdown",
      "metadata": {
        "id": "D9QHDqgJU3KB"
      },
      "source": [
        "### El punto p1 pertenece al dataset 1; el punto p2 pertenece al dataset 4; el punto p3 pertenece al dataset 3 y el punto p4 pertenece al dataset 2"
      ]
    }
  ]
}